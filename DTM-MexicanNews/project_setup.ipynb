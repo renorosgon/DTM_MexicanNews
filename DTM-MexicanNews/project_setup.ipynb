{
 "cells": [
  {
   "cell_type": "code",
   "execution_count": 6,
   "id": "42ead69f",
   "metadata": {},
   "outputs": [],
   "source": [
    "'''This script will create a cookie cutter-ish folder strucutre and create a database to save the project data'''\n",
    "\n",
    "# this chunk create the needed folders\n",
    "import os\n",
    "if not os.path.exists('./data'):\n",
    "    os.mkdir('./data')\n",
    "if not os.path.exists('./wrapper'):\n",
    "    os.mkdir('./wrapper')\n",
    "if not os.path.exists('./models'):\n",
    "    os.mkdir('./models')\n",
    "\n",
    "# this chunk create the database and create the tables we will need\n",
    "import sqlite3\n",
    "# Create de database\n",
    "sqliteConnection = sqlite3.connect('./data/dtm_master_project.db')\n",
    "cursor = sqliteConnection.cursor()\n",
    "\n",
    "# Clean tables if exist\n",
    "drop_table_query = 'DROP TABLE IF EXISTS raw_news;'\n",
    "cursor.execute(drop_table_query)\n",
    "drop_table_query = 'DROP TABLE IF EXISTS metrics;'\n",
    "cursor.execute(drop_table_query)\n",
    "drop_table_query = 'DROP TABLE IF EXISTS word_probabilities;'\n",
    "cursor.execute(drop_table_query)\n",
    "\n",
    "# This is the table that will store raw texts\n",
    "create_table_query = \"CREATE TABLE raw_news ( date DATE, id VARCHAR(1000) PRIMARY KEY, section VARCHAR(1000), title VARCHAR(1000), author VARCHAR(1000), raw_text VARCHAR(1000000));\"\n",
    "cursor.execute(create_table_query)\n",
    "\n",
    "# This is the table that will store metrics\n",
    "create_table_query = \"CREATE TABLE metrics ( topics VARCHAR(1000), time_slice VARCHAR(1000), umass VARCHAR(1000), cv VARCHAR(1000), PRIMARY KEY(topics, time_slice));\"\n",
    "cursor.execute(create_table_query)\n",
    "\n",
    "# This is the table that will store word probabilities\n",
    "create_table_query = \"CREATE TABLE word_probabilities ( month VARCHAR(2), probability VARCHAR(1000), word VARCHAR(1000), topic VARCHAR(1000), PRIMARY KEY(topic, month, word));\"\n",
    "cursor.execute(create_table_query)\n",
    "\n",
    "\n",
    "sqliteConnection.commit()\n",
    "sqliteConnection.close()\n"
   ]
  }
 ],
 "metadata": {
  "kernelspec": {
   "display_name": "Python 3 (ipykernel)",
   "language": "python",
   "name": "python3"
  },
  "language_info": {
   "codemirror_mode": {
    "name": "ipython",
    "version": 3
   },
   "file_extension": ".py",
   "mimetype": "text/x-python",
   "name": "python",
   "nbconvert_exporter": "python",
   "pygments_lexer": "ipython3",
   "version": "3.10.1"
  }
 },
 "nbformat": 4,
 "nbformat_minor": 5
}
